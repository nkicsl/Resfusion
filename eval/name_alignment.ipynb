{
 "cells": [
  {
   "cell_type": "code",
   "execution_count": 1,
   "id": "initial_id",
   "metadata": {
    "collapsed": true,
    "ExecuteTime": {
     "end_time": "2024-04-13T08:55:30.615893200Z",
     "start_time": "2024-04-13T08:55:30.602889900Z"
    }
   },
   "outputs": [],
   "source": [
    "import os\n",
    "import shutil"
   ]
  },
  {
   "cell_type": "markdown",
   "source": [
    "ISTD数据集"
   ],
   "metadata": {
    "collapsed": false
   },
   "id": "524676a80f98f682"
  },
  {
   "cell_type": "code",
   "execution_count": 2,
   "outputs": [],
   "source": [
    "# 设置路径\n",
    "origin_path = '../../datasets/ISTD/test/test_C'\n",
    "predict_path = '../../resfusion_results/ISTD/RDDM_Unet/images/test/Prediction'\n",
    "new_predict_path = '../../resfusion_results/ISTD/RDDM_Unet/images/test/aligned_Prediction'"
   ],
   "metadata": {
    "collapsed": false,
    "ExecuteTime": {
     "end_time": "2024-04-13T08:55:30.631895800Z",
     "start_time": "2024-04-13T08:55:30.618891900Z"
    }
   },
   "id": "fb6b1d65553933ed"
  },
  {
   "cell_type": "code",
   "execution_count": 3,
   "outputs": [
    {
     "name": "stdout",
     "output_type": "stream",
     "text": [
      "100-1.png\n"
     ]
    }
   ],
   "source": [
    "# 创建新目录结构\n",
    "os.makedirs(new_predict_path, exist_ok=True)\n",
    "# 确保数据和对应的标签匹配\n",
    "origin_files = os.listdir(origin_path)\n",
    "predict_files = os.listdir(predict_path)\n",
    "origin_files.sort()\n",
    "predict_files.sort()\n",
    "print(origin_files[0])"
   ],
   "metadata": {
    "collapsed": false,
    "ExecuteTime": {
     "end_time": "2024-04-13T08:55:30.689907500Z",
     "start_time": "2024-04-13T08:55:30.637890500Z"
    }
   },
   "id": "7e84ddbc555f094d"
  },
  {
   "cell_type": "code",
   "execution_count": 4,
   "outputs": [],
   "source": [
    "# 复制文件到新目录\n",
    "for i in range(len(origin_files)):\n",
    "    old_file = os.path.join(predict_path, predict_files[i])\n",
    "    new_file = os.path.join(new_predict_path, origin_files[i])\n",
    "    shutil.copy(old_file, new_file)"
   ],
   "metadata": {
    "collapsed": false,
    "ExecuteTime": {
     "end_time": "2024-04-13T08:55:31.285519700Z",
     "start_time": "2024-04-13T08:55:30.651890900Z"
    }
   },
   "id": "430549771e8c7c19"
  },
  {
   "cell_type": "code",
   "execution_count": 4,
   "outputs": [],
   "source": [],
   "metadata": {
    "collapsed": false,
    "ExecuteTime": {
     "end_time": "2024-04-13T08:55:31.300519400Z",
     "start_time": "2024-04-13T08:55:31.288520900Z"
    }
   },
   "id": "c8af166a09ca3f7a"
  }
 ],
 "metadata": {
  "kernelspec": {
   "display_name": "Python 3",
   "language": "python",
   "name": "python3"
  },
  "language_info": {
   "codemirror_mode": {
    "name": "ipython",
    "version": 2
   },
   "file_extension": ".py",
   "mimetype": "text/x-python",
   "name": "python",
   "nbconvert_exporter": "python",
   "pygments_lexer": "ipython2",
   "version": "2.7.6"
  }
 },
 "nbformat": 4,
 "nbformat_minor": 5
}
