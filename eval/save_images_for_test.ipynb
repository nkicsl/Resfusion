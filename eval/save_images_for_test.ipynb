{
 "cells": [
  {
   "cell_type": "code",
   "execution_count": 1,
   "metadata": {
    "ExecuteTime": {
     "end_time": "2024-04-13T08:51:10.465109400Z",
     "start_time": "2024-04-13T08:51:09.763451100Z"
    }
   },
   "outputs": [],
   "source": [
    "import argparse\n",
    "import pathlib\n",
    "import numpy as np\n",
    "import cv2\n",
    "from tensorboard.backend.event_processing import event_accumulator"
   ]
  },
  {
   "cell_type": "code",
   "execution_count": 2,
   "metadata": {
    "ExecuteTime": {
     "end_time": "2024-04-13T08:51:10.484126200Z",
     "start_time": "2024-04-13T08:51:10.467110200Z"
    },
    "collapsed": false
   },
   "outputs": [],
   "source": [
    "#读取对应的tensorboard文件，将图片保存到指定的文件夹\n",
    "args = argparse.Namespace(\n",
    "        #val\n",
    "        # log_dir='/data/bob/git/bob/resfusion_restore_test/lightning_logs/version_7/events.out.tfevents.1710918247.52d6188444b4.27829.1',\n",
    "        # outdir='../images/val',\n",
    "        #test\n",
    "        log_dir='../../resfusion_results/ISTD/RDDM_Unet/events.out.tfevents.1712996585.ed673c9b596d.3037.1',\n",
    "        outdir='../../resfusion_results/ISTD/RDDM_Unet/images/test',\n",
    "        )"
   ]
  },
  {
   "cell_type": "code",
   "execution_count": 3,
   "metadata": {
    "ExecuteTime": {
     "end_time": "2024-04-13T08:54:45.704994800Z",
     "start_time": "2024-04-13T08:51:10.480109600Z"
    },
    "collapsed": false
   },
   "outputs": [],
   "source": [
    "ea=event_accumulator.EventAccumulator(args.log_dir, size_guidance={'images': 0}) \n",
    "ea.Reload()\n",
    "outdir = pathlib.Path(args.outdir)\n",
    "outdir.mkdir(exist_ok=True, parents=True)\n",
    "for tag in ea.Tags()['images']:\n",
    "    events = ea.Images(tag)\n",
    "    parts = tag.split(\"/\")\n",
    "    image_type = parts[0]\n",
    "    image_code = parts[1]\n",
    "    dirpath = outdir / image_type\n",
    "    dirpath.mkdir(exist_ok=True, parents=True)\n",
    "\n",
    "    for index, event in enumerate(events):\n",
    "        s = np.frombuffer(event.encoded_image_string, dtype=np.uint8)\n",
    "        if image_type == \"Mask\":\n",
    "            image = cv2.imdecode(s, cv2.IMREAD_GRAYSCALE)\n",
    "        else:\n",
    "            image = cv2.imdecode(s, cv2.IMREAD_COLOR)\n",
    "        outpath = dirpath / '{}.png'.format(image_code)\n",
    "        cv2.imwrite(outpath.as_posix(), image)"
   ]
  },
  {
   "cell_type": "code",
   "execution_count": 3,
   "metadata": {
    "ExecuteTime": {
     "end_time": "2024-04-13T08:54:45.722014800Z",
     "start_time": "2024-04-13T08:54:45.705995Z"
    },
    "collapsed": false
   },
   "outputs": [],
   "source": []
  }
 ],
 "metadata": {
  "kernelspec": {
   "display_name": "Python 3",
   "language": "python",
   "name": "python3"
  },
  "language_info": {
   "codemirror_mode": {
    "name": "ipython",
    "version": 3
   },
   "file_extension": ".py",
   "mimetype": "text/x-python",
   "name": "python",
   "nbconvert_exporter": "python",
   "pygments_lexer": "ipython3",
   "version": "3.8.17"
  }
 },
 "nbformat": 4,
 "nbformat_minor": 2
}
